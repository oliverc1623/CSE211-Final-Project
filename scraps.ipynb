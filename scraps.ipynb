{
 "cells": [
  {
   "cell_type": "code",
   "execution_count": 58,
   "metadata": {},
   "outputs": [],
   "source": [
    "import compiler_gym\n",
    "from compiler_gym import wrappers\n",
    "import matplotlib.pyplot as plt\n",
    "import pandas as pd\n",
    "import seaborn as sns\n",
    "import numpy as np\n",
    "import random\n",
    "\n",
    "import torch\n",
    "import torch.nn as nn\n",
    "import torch.nn.functional as F\n",
    "import torch.optim as optim"
   ]
  },
  {
   "cell_type": "code",
   "execution_count": 420,
   "metadata": {},
   "outputs": [],
   "source": [
    "env = compiler_gym.make( \"llvm-v0\", benchmark=\"benchmark://cbench-v1/bzip2\", observation_space=\"Runtime\")"
   ]
  },
  {
   "cell_type": "code",
   "execution_count": 421,
   "metadata": {},
   "outputs": [
    {
     "data": {
      "text/plain": [
       "(-inf, inf)"
      ]
     },
     "execution_count": 421,
     "metadata": {},
     "output_type": "execute_result"
    }
   ],
   "source": [
    "env.reward_range"
   ]
  },
  {
   "cell_type": "code",
   "execution_count": 422,
   "metadata": {},
   "outputs": [
    {
     "data": {
      "text/plain": [
       "array([0.373903])"
      ]
     },
     "execution_count": 422,
     "metadata": {},
     "output_type": "execute_result"
    }
   ],
   "source": [
    "observation = env.reset()\n",
    "observation"
   ]
  },
  {
   "cell_type": "code",
   "execution_count": 423,
   "metadata": {},
   "outputs": [
    {
     "ename": "KeyboardInterrupt",
     "evalue": "",
     "output_type": "error",
     "traceback": [
      "\u001b[0;31m---------------------------------------------------------------------------\u001b[0m",
      "\u001b[0;31mKeyboardInterrupt\u001b[0m                         Traceback (most recent call last)",
      "\u001b[1;32m/Users/oliverchang/Documents/cse211/CSE211-Final-Project/scraps.ipynb Cell 5\u001b[0m line \u001b[0;36m3\n\u001b[1;32m      <a href='vscode-notebook-cell:/Users/oliverchang/Documents/cse211/CSE211-Final-Project/scraps.ipynb#W4sZmlsZQ%3D%3D?line=0'>1</a>\u001b[0m scores \u001b[39m=\u001b[39m []\n\u001b[1;32m      <a href='vscode-notebook-cell:/Users/oliverchang/Documents/cse211/CSE211-Final-Project/scraps.ipynb#W4sZmlsZQ%3D%3D?line=1'>2</a>\u001b[0m \u001b[39mfor\u001b[39;00m _ \u001b[39min\u001b[39;00m \u001b[39mrange\u001b[39m(\u001b[39m1000\u001b[39m): \n\u001b[0;32m----> <a href='vscode-notebook-cell:/Users/oliverchang/Documents/cse211/CSE211-Final-Project/scraps.ipynb#W4sZmlsZQ%3D%3D?line=2'>3</a>\u001b[0m     observation, reward, done, info \u001b[39m=\u001b[39m env\u001b[39m.\u001b[39;49mstep(env\u001b[39m.\u001b[39;49maction_space\u001b[39m.\u001b[39;49msample()) \u001b[39m# User selects action \u001b[39;00m\n\u001b[1;32m      <a href='vscode-notebook-cell:/Users/oliverchang/Documents/cse211/CSE211-Final-Project/scraps.ipynb#W4sZmlsZQ%3D%3D?line=3'>4</a>\u001b[0m     scores\u001b[39m.\u001b[39mappend(reward)\n\u001b[1;32m      <a href='vscode-notebook-cell:/Users/oliverchang/Documents/cse211/CSE211-Final-Project/scraps.ipynb#W4sZmlsZQ%3D%3D?line=4'>5</a>\u001b[0m     \u001b[39mif\u001b[39;00m done:    \n",
      "File \u001b[0;32m~/opt/anaconda3/envs/compiler_gym/lib/python3.10/site-packages/compiler_gym/service/client_service_compiler_env.py:998\u001b[0m, in \u001b[0;36mClientServiceCompilerEnv.step\u001b[0;34m(self, action, observation_spaces, reward_spaces, observations, rewards, timeout)\u001b[0m\n\u001b[1;32m    992\u001b[0m     warnings\u001b[39m.\u001b[39mwarn(\n\u001b[1;32m    993\u001b[0m         \u001b[39m\"\u001b[39m\u001b[39mArgument `rewards` of ClientServiceCompilerEnv.step has been renamed \u001b[39m\u001b[39m\"\u001b[39m\n\u001b[1;32m    994\u001b[0m         \u001b[39m\"\u001b[39m\u001b[39m`reward_spaces`. Please update your code\u001b[39m\u001b[39m\"\u001b[39m,\n\u001b[1;32m    995\u001b[0m         category\u001b[39m=\u001b[39m\u001b[39mDeprecationWarning\u001b[39;00m,\n\u001b[1;32m    996\u001b[0m     )\n\u001b[1;32m    997\u001b[0m     reward_spaces \u001b[39m=\u001b[39m rewards\n\u001b[0;32m--> 998\u001b[0m \u001b[39mreturn\u001b[39;00m \u001b[39mself\u001b[39;49m\u001b[39m.\u001b[39;49mmultistep(\n\u001b[1;32m    999\u001b[0m     actions\u001b[39m=\u001b[39;49m[action],\n\u001b[1;32m   1000\u001b[0m     observation_spaces\u001b[39m=\u001b[39;49mobservation_spaces,\n\u001b[1;32m   1001\u001b[0m     reward_spaces\u001b[39m=\u001b[39;49mreward_spaces,\n\u001b[1;32m   1002\u001b[0m     timeout\u001b[39m=\u001b[39;49mtimeout,\n\u001b[1;32m   1003\u001b[0m )\n",
      "File \u001b[0;32m~/opt/anaconda3/envs/compiler_gym/lib/python3.10/site-packages/compiler_gym/service/client_service_compiler_env.py:1059\u001b[0m, in \u001b[0;36mClientServiceCompilerEnv.multistep\u001b[0;34m(self, actions, observation_spaces, reward_spaces, observations, rewards, timeout)\u001b[0m\n\u001b[1;32m   1056\u001b[0m     reward_spaces_to_compute: List[Reward] \u001b[39m=\u001b[39m []\n\u001b[1;32m   1058\u001b[0m \u001b[39m# Perform the underlying environment step.\u001b[39;00m\n\u001b[0;32m-> 1059\u001b[0m observation_values, reward_values, done, info \u001b[39m=\u001b[39m \u001b[39mself\u001b[39;49m\u001b[39m.\u001b[39;49mraw_step(\n\u001b[1;32m   1060\u001b[0m     actions,\n\u001b[1;32m   1061\u001b[0m     observation_spaces_to_compute,\n\u001b[1;32m   1062\u001b[0m     reward_spaces_to_compute,\n\u001b[1;32m   1063\u001b[0m     timeout\u001b[39m=\u001b[39;49mtimeout,\n\u001b[1;32m   1064\u001b[0m )\n\u001b[1;32m   1066\u001b[0m \u001b[39m# Translate observations lists back to the appropriate types.\u001b[39;00m\n\u001b[1;32m   1067\u001b[0m \u001b[39mif\u001b[39;00m observation_spaces \u001b[39mis\u001b[39;00m \u001b[39mNone\u001b[39;00m \u001b[39mand\u001b[39;00m \u001b[39mself\u001b[39m\u001b[39m.\u001b[39mobservation_space_spec:\n",
      "File \u001b[0;32m~/opt/anaconda3/envs/compiler_gym/lib/python3.10/site-packages/compiler_gym/service/client_service_compiler_env.py:874\u001b[0m, in \u001b[0;36mClientServiceCompilerEnv.raw_step\u001b[0;34m(self, actions, observation_spaces, reward_spaces, timeout)\u001b[0m\n\u001b[1;32m    864\u001b[0m request \u001b[39m=\u001b[39m StepRequest(\n\u001b[1;32m    865\u001b[0m     session_id\u001b[39m=\u001b[39m\u001b[39mself\u001b[39m\u001b[39m.\u001b[39m_session_id,\n\u001b[1;32m    866\u001b[0m     action\u001b[39m=\u001b[39m[\n\u001b[0;32m   (...)\u001b[0m\n\u001b[1;32m    871\u001b[0m     ],\n\u001b[1;32m    872\u001b[0m )\n\u001b[1;32m    873\u001b[0m \u001b[39mtry\u001b[39;00m:\n\u001b[0;32m--> 874\u001b[0m     reply \u001b[39m=\u001b[39m _wrapped_step(\u001b[39mself\u001b[39;49m\u001b[39m.\u001b[39;49mservice, request, timeout)\n\u001b[1;32m    875\u001b[0m \u001b[39mexcept\u001b[39;00m (\n\u001b[1;32m    876\u001b[0m     ServiceError,\n\u001b[1;32m    877\u001b[0m     ServiceTransportError,\n\u001b[0;32m   (...)\u001b[0m\n\u001b[1;32m    883\u001b[0m     \u001b[39m# end the current episode and provide some diagnostic information to\u001b[39;00m\n\u001b[1;32m    884\u001b[0m     \u001b[39m# the user through the `info` dict.\u001b[39;00m\n\u001b[1;32m    885\u001b[0m     info \u001b[39m=\u001b[39m {\n\u001b[1;32m    886\u001b[0m         \u001b[39m\"\u001b[39m\u001b[39merror_type\u001b[39m\u001b[39m\"\u001b[39m: \u001b[39mtype\u001b[39m(e)\u001b[39m.\u001b[39m\u001b[39m__name__\u001b[39m,\n\u001b[1;32m    887\u001b[0m         \u001b[39m\"\u001b[39m\u001b[39merror_details\u001b[39m\u001b[39m\"\u001b[39m: \u001b[39mstr\u001b[39m(e),\n\u001b[1;32m    888\u001b[0m     }\n",
      "File \u001b[0;32m~/opt/anaconda3/envs/compiler_gym/lib/python3.10/site-packages/compiler_gym/service/client_service_compiler_env.py:73\u001b[0m, in \u001b[0;36m_wrapped_step\u001b[0;34m(service, request, timeout)\u001b[0m\n\u001b[1;32m     71\u001b[0m \u001b[39m\u001b[39m\u001b[39m\"\"\"Call the Step() RPC endpoint.\"\"\"\u001b[39;00m\n\u001b[1;32m     72\u001b[0m \u001b[39mtry\u001b[39;00m:\n\u001b[0;32m---> 73\u001b[0m     \u001b[39mreturn\u001b[39;00m service(service\u001b[39m.\u001b[39;49mstub\u001b[39m.\u001b[39;49mStep, request, timeout\u001b[39m=\u001b[39;49mtimeout)\n\u001b[1;32m     74\u001b[0m \u001b[39mexcept\u001b[39;00m \u001b[39mFileNotFoundError\u001b[39;00m \u001b[39mas\u001b[39;00m e:\n\u001b[1;32m     75\u001b[0m     \u001b[39mif\u001b[39;00m \u001b[39mstr\u001b[39m(e)\u001b[39m.\u001b[39mstartswith(\u001b[39m\"\u001b[39m\u001b[39mSession not found\u001b[39m\u001b[39m\"\u001b[39m):\n",
      "File \u001b[0;32m~/opt/anaconda3/envs/compiler_gym/lib/python3.10/site-packages/compiler_gym/service/connection.py:813\u001b[0m, in \u001b[0;36mCompilerGymServiceConnection.__call__\u001b[0;34m(self, stub_method, request, timeout, max_retries, retry_wait_seconds, retry_wait_backoff_exponent)\u001b[0m\n\u001b[1;32m    811\u001b[0m \u001b[39mif\u001b[39;00m \u001b[39mself\u001b[39m\u001b[39m.\u001b[39mclosed:\n\u001b[1;32m    812\u001b[0m     \u001b[39mself\u001b[39m\u001b[39m.\u001b[39m_establish_connection()\n\u001b[0;32m--> 813\u001b[0m \u001b[39mreturn\u001b[39;00m \u001b[39mself\u001b[39;49m\u001b[39m.\u001b[39;49mconnection(\n\u001b[1;32m    814\u001b[0m     stub_method,\n\u001b[1;32m    815\u001b[0m     request,\n\u001b[1;32m    816\u001b[0m     timeout\u001b[39m=\u001b[39;49mtimeout,\n\u001b[1;32m    817\u001b[0m     max_retries\u001b[39m=\u001b[39;49mmax_retries \u001b[39mor\u001b[39;49;00m \u001b[39mself\u001b[39;49m\u001b[39m.\u001b[39;49mopts\u001b[39m.\u001b[39;49mrpc_max_retries,\n\u001b[1;32m    818\u001b[0m     retry_wait_seconds\u001b[39m=\u001b[39;49mretry_wait_seconds \u001b[39mor\u001b[39;49;00m \u001b[39mself\u001b[39;49m\u001b[39m.\u001b[39;49mopts\u001b[39m.\u001b[39;49mretry_wait_seconds,\n\u001b[1;32m    819\u001b[0m     retry_wait_backoff_exponent\u001b[39m=\u001b[39;49m(\n\u001b[1;32m    820\u001b[0m         retry_wait_backoff_exponent \u001b[39mor\u001b[39;49;00m \u001b[39mself\u001b[39;49m\u001b[39m.\u001b[39;49mopts\u001b[39m.\u001b[39;49mretry_wait_backoff_exponent\n\u001b[1;32m    821\u001b[0m     ),\n\u001b[1;32m    822\u001b[0m )\n",
      "File \u001b[0;32m~/opt/anaconda3/envs/compiler_gym/lib/python3.10/site-packages/compiler_gym/service/connection.py:201\u001b[0m, in \u001b[0;36mConnection.__call__\u001b[0;34m(self, stub_method, request, timeout, max_retries, retry_wait_seconds, retry_wait_backoff_exponent)\u001b[0m\n\u001b[1;32m    199\u001b[0m \u001b[39mwhile\u001b[39;00m \u001b[39mTrue\u001b[39;00m:\n\u001b[1;32m    200\u001b[0m     \u001b[39mtry\u001b[39;00m:\n\u001b[0;32m--> 201\u001b[0m         \u001b[39mreturn\u001b[39;00m stub_method(request, timeout\u001b[39m=\u001b[39;49mtimeout)\n\u001b[1;32m    202\u001b[0m     \u001b[39mexcept\u001b[39;00m \u001b[39mValueError\u001b[39;00m \u001b[39mas\u001b[39;00m e:\n\u001b[1;32m    203\u001b[0m         \u001b[39mif\u001b[39;00m \u001b[39mstr\u001b[39m(e) \u001b[39m==\u001b[39m \u001b[39m\"\u001b[39m\u001b[39mCannot invoke RPC on closed channel!\u001b[39m\u001b[39m\"\u001b[39m:\n",
      "File \u001b[0;32m~/opt/anaconda3/envs/compiler_gym/lib/python3.10/site-packages/grpc/_channel.py:944\u001b[0m, in \u001b[0;36m_UnaryUnaryMultiCallable.__call__\u001b[0;34m(self, request, timeout, metadata, credentials, wait_for_ready, compression)\u001b[0m\n\u001b[1;32m    937\u001b[0m \u001b[39mdef\u001b[39;00m \u001b[39m__call__\u001b[39m(\u001b[39mself\u001b[39m,\n\u001b[1;32m    938\u001b[0m              request,\n\u001b[1;32m    939\u001b[0m              timeout\u001b[39m=\u001b[39m\u001b[39mNone\u001b[39;00m,\n\u001b[0;32m   (...)\u001b[0m\n\u001b[1;32m    942\u001b[0m              wait_for_ready\u001b[39m=\u001b[39m\u001b[39mNone\u001b[39;00m,\n\u001b[1;32m    943\u001b[0m              compression\u001b[39m=\u001b[39m\u001b[39mNone\u001b[39;00m):\n\u001b[0;32m--> 944\u001b[0m     state, call, \u001b[39m=\u001b[39m \u001b[39mself\u001b[39;49m\u001b[39m.\u001b[39;49m_blocking(request, timeout, metadata, credentials,\n\u001b[1;32m    945\u001b[0m                                   wait_for_ready, compression)\n\u001b[1;32m    946\u001b[0m     \u001b[39mreturn\u001b[39;00m _end_unary_response_blocking(state, call, \u001b[39mFalse\u001b[39;00m, \u001b[39mNone\u001b[39;00m)\n",
      "File \u001b[0;32m~/opt/anaconda3/envs/compiler_gym/lib/python3.10/site-packages/grpc/_channel.py:933\u001b[0m, in \u001b[0;36m_UnaryUnaryMultiCallable._blocking\u001b[0;34m(self, request, timeout, metadata, credentials, wait_for_ready, compression)\u001b[0m\n\u001b[1;32m    925\u001b[0m \u001b[39melse\u001b[39;00m:\n\u001b[1;32m    926\u001b[0m     call \u001b[39m=\u001b[39m \u001b[39mself\u001b[39m\u001b[39m.\u001b[39m_channel\u001b[39m.\u001b[39msegregated_call(\n\u001b[1;32m    927\u001b[0m         cygrpc\u001b[39m.\u001b[39mPropagationConstants\u001b[39m.\u001b[39mGRPC_PROPAGATE_DEFAULTS,\n\u001b[1;32m    928\u001b[0m         \u001b[39mself\u001b[39m\u001b[39m.\u001b[39m_method, \u001b[39mNone\u001b[39;00m, _determine_deadline(deadline), metadata,\n\u001b[0;32m   (...)\u001b[0m\n\u001b[1;32m    931\u001b[0m             \u001b[39mNone\u001b[39;00m,\n\u001b[1;32m    932\u001b[0m         ),), \u001b[39mself\u001b[39m\u001b[39m.\u001b[39m_context)\n\u001b[0;32m--> 933\u001b[0m     event \u001b[39m=\u001b[39m call\u001b[39m.\u001b[39;49mnext_event()\n\u001b[1;32m    934\u001b[0m     _handle_event(event, state, \u001b[39mself\u001b[39m\u001b[39m.\u001b[39m_response_deserializer)\n\u001b[1;32m    935\u001b[0m     \u001b[39mreturn\u001b[39;00m state, call\n",
      "File \u001b[0;32msrc/python/grpcio/grpc/_cython/_cygrpc/channel.pyx.pxi:338\u001b[0m, in \u001b[0;36mgrpc._cython.cygrpc.SegregatedCall.next_event\u001b[0;34m()\u001b[0m\n",
      "File \u001b[0;32msrc/python/grpcio/grpc/_cython/_cygrpc/channel.pyx.pxi:169\u001b[0m, in \u001b[0;36mgrpc._cython.cygrpc._next_call_event\u001b[0;34m()\u001b[0m\n",
      "File \u001b[0;32msrc/python/grpcio/grpc/_cython/_cygrpc/channel.pyx.pxi:163\u001b[0m, in \u001b[0;36mgrpc._cython.cygrpc._next_call_event\u001b[0;34m()\u001b[0m\n",
      "File \u001b[0;32msrc/python/grpcio/grpc/_cython/_cygrpc/completion_queue.pyx.pxi:63\u001b[0m, in \u001b[0;36mgrpc._cython.cygrpc._latent_event\u001b[0;34m()\u001b[0m\n",
      "File \u001b[0;32msrc/python/grpcio/grpc/_cython/_cygrpc/completion_queue.pyx.pxi:42\u001b[0m, in \u001b[0;36mgrpc._cython.cygrpc._next\u001b[0;34m()\u001b[0m\n",
      "\u001b[0;31mKeyboardInterrupt\u001b[0m: "
     ]
    }
   ],
   "source": [
    "scores = []\n",
    "for _ in range(1000): \n",
    "    observation, reward, done, info = env.step(env.action_space.sample()) # User selects action \n",
    "    scores.append(reward)\n",
    "    if done:    \n",
    "        env.reset()"
   ]
  },
  {
   "cell_type": "code",
   "execution_count": 424,
   "metadata": {},
   "outputs": [
    {
     "data": {
      "text/plain": [
       "[<matplotlib.lines.Line2D at 0x7fd0d8b1ee00>]"
      ]
     },
     "execution_count": 424,
     "metadata": {},
     "output_type": "execute_result"
    },
    {
     "data": {
      "image/png": "[encoded data removed]",
      "text/plain": [
       "<Figure size 640x480 with 1 Axes>"
      ]
     },
     "metadata": {},
     "output_type": "display_data"
    }
   ],
   "source": [
    "plt.plot(scores)"
   ]
  },
  {
   "cell_type": "code",
   "execution_count": 28,
   "metadata": {},
   "outputs": [
    {
     "data": {
      "text/plain": [
       "PosixPath('output.bc')"
      ]
     },
     "execution_count": 28,
     "metadata": {},
     "output_type": "execute_result"
    }
   ],
   "source": [
    "env.write_bitcode(\"output.bc\")"
   ]
  },
  {
   "cell_type": "code",
   "execution_count": 13,
   "metadata": {},
   "outputs": [
    {
     "name": "stdout",
     "output_type": "stream",
     "text": [
      "Step 1, quality=0.000%\n",
      "Step 2, quality=0.000%\n",
      "Step 3, quality=0.000%\n",
      "Step 4, quality=0.000%\n",
      "Step 5, quality=0.000%\n",
      "Step 6, quality=45200.000%\n",
      "Step 7, quality=45200.000%\n",
      "Step 8, quality=45200.000%\n",
      "Step 9, quality=45200.000%\n",
      "Step 10, quality=45200.000%\n",
      "Step 11, quality=45200.000%\n",
      "Step 12, quality=45200.000%\n",
      "Step 13, quality=45200.000%\n",
      "Step 14, quality=195900.000%\n",
      "Step 15, quality=195900.000%\n",
      "Step 16, quality=195900.000%\n",
      "Step 17, quality=195900.000%\n",
      "Step 18, quality=195900.000%\n",
      "Step 19, quality=195900.000%\n",
      "Step 20, quality=195900.000%\n",
      "Step 21, quality=195900.000%\n",
      "Step 22, quality=195900.000%\n",
      "Step 23, quality=196400.000%\n",
      "Step 24, quality=196400.000%\n",
      "Step 25, quality=196400.000%\n",
      "Step 26, quality=196400.000%\n",
      "Step 27, quality=196400.000%\n",
      "Step 28, quality=196300.000%\n",
      "Step 29, quality=196300.000%\n",
      "Step 30, quality=196300.000%\n",
      "Step 31, quality=196300.000%\n",
      "Step 32, quality=196300.000%\n",
      "Step 33, quality=196300.000%\n",
      "Step 34, quality=196300.000%\n",
      "Step 35, quality=196300.000%\n",
      "Step 36, quality=196300.000%\n",
      "Step 37, quality=196300.000%\n",
      "Step 38, quality=196400.000%\n",
      "Step 39, quality=196400.000%\n",
      "Step 40, quality=196400.000%\n",
      "Step 41, quality=196400.000%\n",
      "Step 42, quality=196400.000%\n",
      "Step 43, quality=196400.000%\n",
      "Step 44, quality=196400.000%\n",
      "Step 45, quality=196400.000%\n",
      "Step 46, quality=196400.000%\n",
      "Step 47, quality=196400.000%\n",
      "Step 48, quality=196400.000%\n",
      "Step 49, quality=196400.000%\n",
      "Step 50, quality=196400.000%\n",
      "Step 51, quality=196400.000%\n",
      "Step 52, quality=196400.000%\n",
      "Step 53, quality=196400.000%\n",
      "Step 54, quality=196400.000%\n",
      "Step 55, quality=196400.000%\n",
      "Step 56, quality=196400.000%\n",
      "Step 57, quality=196400.000%\n",
      "Step 58, quality=196400.000%\n",
      "Step 59, quality=180900.000%\n",
      "Step 60, quality=180900.000%\n",
      "Step 61, quality=180900.000%\n",
      "Step 62, quality=180900.000%\n",
      "Step 63, quality=180900.000%\n",
      "Step 64, quality=180900.000%\n",
      "Step 65, quality=180900.000%\n",
      "Step 66, quality=180900.000%\n",
      "Step 67, quality=180900.000%\n",
      "Step 68, quality=175100.000%\n",
      "Step 69, quality=180900.000%\n",
      "Step 70, quality=180900.000%\n",
      "Step 71, quality=180900.000%\n",
      "Step 72, quality=180900.000%\n",
      "Step 73, quality=180900.000%\n",
      "Step 74, quality=180900.000%\n",
      "Step 75, quality=180900.000%\n",
      "Step 76, quality=180900.000%\n",
      "Step 77, quality=180900.000%\n",
      "Step 78, quality=180900.000%\n",
      "Step 79, quality=180900.000%\n",
      "Step 80, quality=180900.000%\n",
      "Step 81, quality=180900.000%\n",
      "Step 82, quality=180900.000%\n",
      "Step 83, quality=180900.000%\n",
      "Step 84, quality=180900.000%\n",
      "Step 85, quality=180900.000%\n",
      "Step 86, quality=180900.000%\n",
      "Step 87, quality=180900.000%\n",
      "Step 88, quality=180900.000%\n",
      "Step 89, quality=180900.000%\n",
      "Step 90, quality=180900.000%\n",
      "Step 91, quality=180900.000%\n",
      "Step 92, quality=180900.000%\n",
      "Step 93, quality=180900.000%\n",
      "Step 94, quality=180900.000%\n",
      "Step 95, quality=180900.000%\n",
      "Step 96, quality=180900.000%\n",
      "Step 97, quality=180900.000%\n",
      "Step 98, quality=183000.000%\n",
      "Step 99, quality=183000.000%\n",
      "Step 100, quality=183000.000%\n"
     ]
    }
   ],
   "source": [
    "env.reset(benchmark=\"benchmark://npb-v0/50\")\n",
    "episode_reward = 0\n",
    "for i in range(1, 101):\n",
    "    observation, reward, done, info = env.step(env.action_space.sample())\n",
    "    if done:\n",
    "        break\n",
    "    episode_reward += reward\n",
    "    print(f\"Step {i}, quality={episode_reward:.3%}\")\n"
   ]
  },
  {
   "cell_type": "code",
   "execution_count": 14,
   "metadata": {},
   "outputs": [
    {
     "data": {
      "text/plain": [
       "'opt -functionattrs -loop-reroll -sink -die -loop-fusion -sroa -elim-avail-extern -elim-avail-extern -deadargelim -ipsccp -separate-const-offset-from-gep -lower-constant-intrinsics -simple-loop-unswitch -newgvn -lower-constant-intrinsics -prune-eh -canonicalize-aliases -loop-simplify -inferattrs -inject-tli-mappings -partially-inline-libcalls -memcpyopt -newgvn -rpo-functionattrs -loweratomic -speculative-execution -redundant-dbg-inst-elim -loop-vectorize -irce -forceattrs -hotcoldsplit -dse -scalarizer -loweratomic -lower-constant-intrinsics -canonicalize-aliases -strip-dead-prototypes -nary-reassociate -lower-expect -consthoist -slp-vectorizer -coro-elide -slsr -sink -ee-instrument -strip -sroa -float2int -instnamer -loop-fusion -rpo-functionattrs -instnamer -consthoist -add-discriminators -deadargelim -mldst-motion -licm -memcpyopt -loop-reduce -coro-cleanup -ipsccp -instnamer -loop-unswitch -mldst-motion -coro-split -loop-fusion -globalsplit -loop-unroll -instcombine -memcpyopt -mergereturn -constprop -strip-nondebug -dce -lower-matrix-intrinsics -strip-dead-prototypes -functionattrs -dse -nary-reassociate -elim-avail-extern -rewrite-statepoints-for-gc -sccp -loop-simplify -coro-cleanup -mergereturn -loop-unroll -strip -post-inline-ee-instrument -irce -loop-instsimplify -canonicalize-aliases -post-inline-ee-instrument -mergereturn -sccp -licm -bdce -strip-dead-prototypes -simplifycfg -inline -infer-address-spaces input.bc -o output.bc'"
      ]
     },
     "execution_count": 14,
     "metadata": {},
     "output_type": "execute_result"
    }
   ],
   "source": [
    "env.commandline()"
   ]
  },
  {
   "cell_type": "code",
   "execution_count": 17,
   "metadata": {},
   "outputs": [
    {
     "ename": "AttributeError",
     "evalue": "module 'compiler_gym' has no attribute 'bin'",
     "output_type": "error",
     "traceback": [
      "\u001b[0;31m---------------------------------------------------------------------------\u001b[0m",
      "\u001b[0;31mAttributeError\u001b[0m                            Traceback (most recent call last)",
      "\u001b[1;32m/Users/oliverchang/Documents/cse211/CSE211-Final-Project/scraps.ipynb Cell 10\u001b[0m line \u001b[0;36m1\n\u001b[0;32m----> <a href='vscode-notebook-cell:/Users/oliverchang/Documents/cse211/CSE211-Final-Project/scraps.ipynb#W6sZmlsZQ%3D%3D?line=0'>1</a>\u001b[0m compiler_gym\u001b[39m.\u001b[39;49mbin\u001b[39m.\u001b[39mservice \u001b[39m-\u001b[39m\u001b[39m-\u001b[39mls_env\n",
      "\u001b[0;31mAttributeError\u001b[0m: module 'compiler_gym' has no attribute 'bin'"
     ]
    }
   ],
   "source": [
    "compiler_gym.bin.service --ls_env"
   ]
  },
  {
   "cell_type": "markdown",
   "metadata": {},
   "source": [
    "# DQN Scraps"
   ]
  },
  {
   "cell_type": "code",
   "execution_count": 1210,
   "metadata": {},
   "outputs": [],
   "source": [
    "env = compiler_gym.make(\n",
    "    \"llvm-autophase-ic-v0\",\n",
    "    benchmark=\"benchmark://cbench-v1/dijkstra\",\n",
    "    observation_space=\"Autophase\",\n",
    ")\n",
    "env = wrappers.TimeLimit(env, 45)"
   ]
  },
  {
   "cell_type": "code",
   "execution_count": 74,
   "metadata": {},
   "outputs": [],
   "source": [
    "class Qnet(nn.Module):\n",
    "    def __init__(self, n_input_channels, n_actions):\n",
    "        super(Qnet, self).__init__()\n",
    "        self.fc1 = nn.Linear(n_input_channels, 128)\n",
    "        self.fc2 = nn.Linear(128, 128)\n",
    "        self.fc3 = nn.Linear(128, n_actions)\n",
    "\n",
    "    def forward(self, x):\n",
    "        x = F.relu(self.fc1(x))\n",
    "        x = F.relu(self.fc2(x))\n",
    "        x = self.fc3(x)\n",
    "        return x\n",
    "\n",
    "    def sample_action(self, obs, epsilon):\n",
    "        obs = torch.tensor(obs).unsqueeze(0).to(\"cpu\").to(dtype=torch.float32)\n",
    "        out = self.forward(obs)\n",
    "        coin = random.random()\n",
    "        if coin < epsilon:\n",
    "            return random.randint(0, 123)\n",
    "        else:\n",
    "            return out.argmax().item()"
   ]
  },
  {
   "cell_type": "code",
   "execution_count": 75,
   "metadata": {},
   "outputs": [],
   "source": [
    "model = Qnet(56, 124)"
   ]
  },
  {
   "cell_type": "code",
   "execution_count": 1252,
   "metadata": {},
   "outputs": [
    {
     "name": "stdout",
     "output_type": "stream",
     "text": [
      "0.0\n",
      "0.0\n",
      "0.0\n",
      "0.0\n",
      "0.0\n",
      "0.0\n",
      "0.0\n",
      "0.0\n",
      "0.0\n",
      "-0.030612244897959183\n",
      "0.05102040816326531\n",
      "0.0\n",
      "0.0\n",
      "0.0\n",
      "0.0\n",
      "0.0\n",
      "0.0\n",
      "0.0\n",
      "0.0\n",
      "0.0\n",
      "0.0\n",
      "0.0\n",
      "0.0\n",
      "0.0\n",
      "0.0\n",
      "0.0\n",
      "0.0\n",
      "-0.061224489795918366\n",
      "0.0\n",
      "0.45408163265306123\n",
      "0.22448979591836735\n",
      "0.0\n",
      "0.0\n",
      "0.0\n",
      "0.0\n",
      "0.0\n",
      "-0.27040816326530615\n",
      "0.0\n",
      "0.04081632653061224\n",
      "0.4387755102040816\n",
      "0.0\n",
      "0.0\n",
      "0.0\n",
      "0.0\n",
      "0.0\n",
      "0.0\n",
      "0.0\n",
      "0.0\n",
      "0.0\n",
      "0.0\n",
      "0.0\n",
      "0.0\n",
      "0.0\n",
      "0.1326530612244898\n",
      "0.0\n",
      "0.04591836734693878\n",
      "0.0\n",
      "-0.00510204081632653\n",
      "0.0\n",
      "0.0\n",
      "0.0\n",
      "0.0\n",
      "0.0\n",
      "0.0\n",
      "0.0\n",
      "0.0\n",
      "0.0\n",
      "0.0\n",
      "0.0\n",
      "0.0\n",
      "0.0\n",
      "-0.16326530612244897\n",
      "0.030612244897959183\n",
      "0.0\n",
      "0.0\n",
      "0.0\n",
      "0.0\n",
      "0.0\n",
      "0.0\n",
      "0.0\n",
      "0.0\n",
      "0.0\n",
      "0.0\n",
      "0.0\n",
      "0.0\n",
      "0.0\n",
      "0.0\n",
      "0.0\n",
      "0.0\n",
      "0.0\n",
      "0.0\n",
      "0.0\n",
      "0.0\n",
      "0.0\n",
      "0.0\n",
      "0.0\n",
      "0.0\n",
      "0.45408163265306123\n",
      "0.0\n",
      "-0.29081632653061223\n",
      "0.0\n",
      "0.0\n",
      "0.0\n",
      "0.6581632653061225\n",
      "0.0\n",
      "0.0\n",
      "0.0\n",
      "0.0\n",
      "0.0\n",
      "0.0\n",
      "0.0\n",
      "0.6581632653061225\n",
      "0.0\n",
      "0.0\n",
      "0.0\n",
      "0.0\n",
      "0.0\n",
      "0.0\n",
      "0.0\n",
      "0.0\n",
      "0.0\n",
      "0.0\n",
      "0.0\n",
      "-0.00510204081632653\n"
     ]
    }
   ],
   "source": [
    "for i in range(124):\n",
    "    ob = env.reset()\n",
    "    ob, r, done, info = env.step(i)\n",
    "    print(r)"
   ]
  },
  {
   "cell_type": "code",
   "execution_count": 93,
   "metadata": {},
   "outputs": [
    {
     "data": {
      "text/plain": [
       "(array([  0,   0,  36,  26,   6,  30,  15,   3,   8,  18,   0,   0,   0,\n",
       "         57,   0,  48,  18,   6,  66, 105,  26,  41,  48,  30,  20,   0,\n",
       "         20,  23,   0,   8,  49,  26,  48,  55,  36,  18,   0, 132,   8,\n",
       "          0,   0,   6,  16,   0,   0,  57,   0,   0,   0,   0,  57, 450,\n",
       "        303,  17,   0, 197]),\n",
       " None,\n",
       " False,\n",
       " {'action_had_no_effect': True, 'new_action_space': False})"
      ]
     },
     "execution_count": 93,
     "metadata": {},
     "output_type": "execute_result"
    }
   ],
   "source": [
    "a = model.sample_action(ob, 0.0)\n",
    "env.step(a)"
   ]
  },
  {
   "cell_type": "code",
   "execution_count": 42,
   "metadata": {},
   "outputs": [
    {
     "name": "stdout",
     "output_type": "stream",
     "text": [
      "torch.Size([1, 56])\n"
     ]
    },
    {
     "data": {
      "text/plain": [
       "torch.Size([1, 128])"
      ]
     },
     "execution_count": 42,
     "metadata": {},
     "output_type": "execute_result"
    }
   ],
   "source": [
    "model(ob).shape"
   ]
  },
  {
   "cell_type": "code",
   "execution_count": 66,
   "metadata": {},
   "outputs": [
    {
     "data": {
      "text/plain": [
       "124"
      ]
     },
     "execution_count": 66,
     "metadata": {},
     "output_type": "execute_result"
    }
   ],
   "source": [
    "env.action_space.n"
   ]
  },
  {
   "cell_type": "markdown",
   "metadata": {},
   "source": [
    "## Analysis"
   ]
  },
  {
   "cell_type": "code",
   "execution_count": 1337,
   "metadata": {},
   "outputs": [
    {
     "data": {
      "text/plain": [
       "<Axes: xlabel='episode', ylabel='score'>"
      ]
     },
     "execution_count": 1337,
     "metadata": {},
     "output_type": "execute_result"
    },
    {
     "data": {
      "image/png": "[encoded data removed]",
      "text/plain": [
       "<Figure size 640x480 with 1 Axes>"
      ]
     },
     "metadata": {},
     "output_type": "display_data"
    }
   ],
   "source": [
    "df = pd.read_csv('data/llvm-autophase/Uniform-DDQN47.csv')\n",
    "sns.lineplot(data=df,x='episode',y='score',linewidth=.5)\n",
    "# sns.lineplot(data=df,x='episode',y='Q-value')"
   ]
  }
 ],
 "metadata": {
  "kernelspec": {
   "display_name": "compiler_gym",
   "language": "python",
   "name": "python3"
  },
  "language_info": {
   "codemirror_mode": {
    "name": "ipython",
    "version": 3
   },
   "file_extension": ".py",
   "mimetype": "text/x-python",
   "name": "python",
   "nbconvert_exporter": "python",
   "pygments_lexer": "ipython3",
   "version": "3.10.13"
  }
 },
 "nbformat": 4,
 "nbformat_minor": 2
}
